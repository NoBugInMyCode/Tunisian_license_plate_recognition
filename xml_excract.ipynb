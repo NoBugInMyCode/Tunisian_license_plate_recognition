{
 "cells": [
  {
   "cell_type": "markdown",
   "metadata": {},
   "source": [
    "## Import Libraries"
   ]
  },
  {
   "cell_type": "code",
   "execution_count": null,
   "metadata": {},
   "outputs": [],
   "source": [
    "import os\n",
    "import xml.etree.ElementTree as ET\n",
    "from PIL import Image"
   ]
  },
  {
   "cell_type": "markdown",
   "metadata": {},
   "source": [
    "## XML Excract Function"
   ]
  },
  {
   "cell_type": "code",
   "execution_count": null,
   "metadata": {},
   "outputs": [],
   "source": [
    "def xml_excract(img_path, xml_path, output_folder):\n",
    "    tree = ET.parse(xml_path)\n",
    "    root = tree.getroot()\n",
    "    for box in root.iter('bndbox'):\n",
    "        xmin = int(box.find('xmin').text)\n",
    "        ymin = int(box.find('ymin').text)\n",
    "        xmax = int(box.find('xmax').text)\n",
    "        ymax = int(box.find('ymax').text)\n",
    "        image = Image.open(img_path)\n",
    "        plate = image.crop((xmin, ymin, xmax, ymax))\n",
    "        plate_filename = os.path.join(output_folder, os.path.basename(img_path))\n",
    "        plate.save(plate_filename)"
   ]
  },
  {
   "cell_type": "markdown",
   "metadata": {},
   "source": [
    "## Set/Create Output Folder"
   ]
  },
  {
   "cell_type": "code",
   "execution_count": null,
   "metadata": {},
   "outputs": [],
   "source": [
    "lp_folder = \"LP\"\n",
    "output_folder = os.path.join(os.path.dirname(lp_folder), \"Plates\")\n",
    "if not os.path.exists(output_folder):\n",
    "    os.makedirs(output_folder)"
   ]
  },
  {
   "cell_type": "markdown",
   "metadata": {},
   "source": [
    "## Process All Images "
   ]
  },
  {
   "cell_type": "code",
   "execution_count": null,
   "metadata": {},
   "outputs": [],
   "source": [
    "for filename in os.listdir(lp_folder):\n",
    "    if filename.endswith('.xml'):\n",
    "        xml_path = os.path.join(lp_folder, filename)\n",
    "        img_path = os.path.join(lp_folder, filename.replace('.xml', '.jpg'))  # 假设图片是jpg格式\n",
    "        xml_excract(img_path, xml_path, output_folder)"
   ]
  }
 ],
 "metadata": {
  "language_info": {
   "name": "python"
  },
  "orig_nbformat": 4
 },
 "nbformat": 4,
 "nbformat_minor": 2
}
